version https://git-lfs.github.com/spec/v1
oid sha256:dba94973525be4741a3177bf3406896b1a5fcf5b475dcd98de674eee9fd03b72
size 395081
