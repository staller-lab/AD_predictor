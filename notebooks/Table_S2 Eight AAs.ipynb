version https://git-lfs.github.com/spec/v1
oid sha256:197afb2abf03d686f94449d10c68f0f7ce913a1b5729dbb39556efcbbf5f0bb4
size 2384798
