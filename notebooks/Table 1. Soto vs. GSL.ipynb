version https://git-lfs.github.com/spec/v1
oid sha256:9bb735402f31dbc6aecdbc0eb81990f7cfc03e7cf43cca47c6855da765c200e7
size 273443
