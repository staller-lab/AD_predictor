version https://git-lfs.github.com/spec/v1
oid sha256:e27af8a17f99ad176797b42e9cb6a5046dc29c0c06aa5ff7a3bb0d45adf8d385
size 3639710
